{
 "cells": [
  {
   "cell_type": "markdown",
   "source": [
    "# Lists and Arrays in Python"
   ],
   "metadata": {}
  },
  {
   "cell_type": "code",
   "execution_count": null,
   "source": [
    "import array\r\n",
    "import numpy as np"
   ],
   "outputs": [],
   "metadata": {}
  },
  {
   "cell_type": "markdown",
   "source": [
    "## Python List"
   ],
   "metadata": {}
  },
  {
   "cell_type": "code",
   "execution_count": null,
   "source": [
    "my_list = [True, \"Hello\", 42.0, 420, None]\r\n",
    "\r\n",
    "print([type(val) for val in my_list])"
   ],
   "outputs": [],
   "metadata": {
    "collapsed": false
   }
  },
  {
   "cell_type": "markdown",
   "source": [
    "## Python Array"
   ],
   "metadata": {}
  },
  {
   "cell_type": "code",
   "execution_count": null,
   "source": [
    "my_array_range = list(range(10))\n",
    "my_array = array.array('i', my_array_range)\n",
    "\n",
    "print(my_array)"
   ],
   "outputs": [],
   "metadata": {
    "collapsed": false
   }
  },
  {
   "cell_type": "markdown",
   "source": [
    "### Array Dtypes\n",
    "\n",
    "|  |  |  |  |  |\n",
    "|-|-|-|-|-|\n",
    "| Type code | C Type | Python Type | Minimum size in bytes |\n",
    "| 'b' | signed char | int | 1 |\n",
    "| 'B' | unsigned char | int | 1 |\n",
    "| 'u' | wchar_t | Unicode character | 2 |\n",
    "| 'h' | signed short | int | 2 |\n",
    "| 'H' | unsigned short | int | 2 |\n",
    "| 'i' | signed int | int | 2 |\n",
    "| 'I' | unsigned int | int | 2 |\n",
    "| 'l' | signed long | int | 4 |\n",
    "| 'L' | unsigned long | int | 4 |\n",
    "| 'q' | signed long long | int | 8 |\n",
    "| 'Q' | unsigned long long | int | 8 |\n",
    "| 'f' | float | float | 4 |\n",
    "| 'd' | double | float | 8 |"
   ],
   "metadata": {}
  },
  {
   "cell_type": "code",
   "execution_count": null,
   "source": [
    "my_array_range = list(range(10))\n",
    "my_array = array.array('d', my_array_range)\n",
    "\n",
    "print(my_array)"
   ],
   "outputs": [],
   "metadata": {}
  },
  {
   "cell_type": "markdown",
   "source": [
    "## Numpy Array"
   ],
   "metadata": {}
  },
  {
   "cell_type": "markdown",
   "source": [
    "NumPy is the fundamental package for scientific computing in Python.  \n",
    "It is a Python library that provides a multidimensional array object, various derived objects, and an assortment of routines for fast operations on arrays.  \n",
    "\n",
    "At the core of the NumPy package, is the ndarray object.  \n",
    "This encapsulates n-dimensional arrays of homogeneous data types, with many operations being performed in compiled code for performance."
   ],
   "metadata": {}
  },
  {
   "cell_type": "code",
   "execution_count": null,
   "source": [
    "def array_info(array: np.ndarray) -> None:\n",
    "    print(f\"ndim: {array.ndim}\")\n",
    "    print(f\"shape: {array.shape}\")\n",
    "    print(f\"size: {array.size}\")\n",
    "    print(f\"dtype: {array.dtype}\")\n",
    "    print(f\"values:\\n{array}\\n\")"
   ],
   "outputs": [],
   "metadata": {}
  },
  {
   "cell_type": "code",
   "execution_count": null,
   "source": [
    "my_np_array = np.array([1, 4, 2, 5, 3])\n",
    "array_info(my_np_array)"
   ],
   "outputs": [],
   "metadata": {
    "collapsed": false
   }
  },
  {
   "cell_type": "code",
   "execution_count": null,
   "source": [
    "my_np_array = np.array([3.14, 4, 2, 3])\n",
    "array_info(my_np_array)"
   ],
   "outputs": [],
   "metadata": {
    "collapsed": false
   }
  },
  {
   "cell_type": "code",
   "execution_count": null,
   "source": [
    "my_np_array = np.array([1, 2, 3, 4], dtype='float32')\n",
    "array_info(my_np_array)"
   ],
   "outputs": [],
   "metadata": {
    "collapsed": false
   }
  },
  {
   "cell_type": "markdown",
   "source": [
    "## Intrinsic Arrays"
   ],
   "metadata": {}
  },
  {
   "cell_type": "code",
   "execution_count": null,
   "source": [
    "my_np_array = np.zeros(shape=10, dtype=int)\n",
    "array_info(my_np_array)"
   ],
   "outputs": [],
   "metadata": {
    "collapsed": false
   }
  },
  {
   "cell_type": "code",
   "execution_count": null,
   "source": [
    "my_np_array = np.ones(shape=(3, 5), dtype=float)\n",
    "array_info(my_np_array)"
   ],
   "outputs": [],
   "metadata": {
    "collapsed": false
   }
  },
  {
   "cell_type": "code",
   "execution_count": null,
   "source": [
    "my_np_array = np.full(shape=(3, 5), fill_value=3.14)\n",
    "array_info(my_np_array)"
   ],
   "outputs": [],
   "metadata": {
    "collapsed": false
   }
  },
  {
   "cell_type": "code",
   "execution_count": null,
   "source": [
    "my_np_array = np.arange(start=0, stop=20, step=2)\n",
    "array_info(my_np_array)"
   ],
   "outputs": [],
   "metadata": {
    "collapsed": false
   }
  },
  {
   "cell_type": "code",
   "execution_count": null,
   "source": [
    "my_np_array = np.linspace(start=0, stop=1, num=5)\n",
    "array_info(my_np_array)"
   ],
   "outputs": [],
   "metadata": {
    "collapsed": false
   }
  },
  {
   "cell_type": "code",
   "execution_count": null,
   "source": [
    "my_np_array = np.eye(N=3)\n",
    "array_info(my_np_array)"
   ],
   "outputs": [],
   "metadata": {
    "collapsed": false
   }
  },
  {
   "cell_type": "code",
   "execution_count": null,
   "source": [
    "my_np_array = np.diag([1, 2, 3])\n",
    "array_info(my_np_array)"
   ],
   "outputs": [],
   "metadata": {}
  },
  {
   "cell_type": "markdown",
   "source": [
    "## Random Functions"
   ],
   "metadata": {}
  },
  {
   "cell_type": "code",
   "execution_count": null,
   "source": [
    "my_np_array = np.random.randint(low=0, high=10, size=(3, 3))\n",
    "array_info(my_np_array)"
   ],
   "outputs": [],
   "metadata": {
    "collapsed": false
   }
  },
  {
   "cell_type": "code",
   "execution_count": null,
   "source": [
    "my_np_array = np.random.random(size=(3, 3))\n",
    "array_info(my_np_array)"
   ],
   "outputs": [],
   "metadata": {
    "collapsed": false
   }
  }
 ],
 "metadata": {
  "anaconda-cloud": {},
  "kernelspec": {
   "name": "python3",
   "display_name": "Python 3.8.10 64-bit ('pyAnfaenger': conda)"
  },
  "language_info": {
   "codemirror_mode": {
    "name": "ipython",
    "version": 3
   },
   "file_extension": ".py",
   "mimetype": "text/x-python",
   "name": "python",
   "nbconvert_exporter": "python",
   "pygments_lexer": "ipython3",
   "version": "3.8.10"
  },
  "metadata": {
   "interpreter": {
    "hash": "423c48e3256333a0e0252f1efeec30283ab6ba0213e3a05c32b0541c29f89950"
   }
  },
  "interpreter": {
   "hash": "398b3e17cbdd937fb684c77b49a08aab28f8301fed8972ff6c5a5c0c104ac570"
  }
 },
 "nbformat": 4,
 "nbformat_minor": 2
}